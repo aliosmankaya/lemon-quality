{
 "cells": [
  {
   "cell_type": "code",
   "execution_count": 1,
   "id": "f4a65a2d-2e19-4421-a1c5-62eba51b269f",
   "metadata": {},
   "outputs": [
    {
     "name": "stdout",
     "output_type": "stream",
     "text": [
      "loading annotations into memory...\n",
      "Done (t=0.57s)\n",
      "creating index...\n",
      "index created!\n"
     ]
    }
   ],
   "source": [
    "import shutil\n",
    "from pycocotools.coco import COCO\n",
    "\n",
    "coco = COCO('/home/aliosman/Desktop/MyProjects/lemon-quality/lemon-dataset/annotations/instances_default.json')"
   ]
  },
  {
   "cell_type": "code",
   "execution_count": 2,
   "id": "aef6c0a6-1a23-4f98-94d5-d3968ce1b3b6",
   "metadata": {},
   "outputs": [
    {
     "data": {
      "text/plain": [
       "{1: {'id': 1, 'supercategory': '', 'name': 'image_quality'},\n",
       " 2: {'id': 2, 'supercategory': '', 'name': 'illness'},\n",
       " 3: {'id': 3, 'supercategory': '', 'name': 'gangrene'},\n",
       " 4: {'id': 4, 'supercategory': '', 'name': 'mould'},\n",
       " 5: {'id': 5, 'supercategory': '', 'name': 'blemish'},\n",
       " 6: {'id': 6, 'supercategory': '', 'name': 'dark_style_remains'},\n",
       " 7: {'id': 7, 'supercategory': '', 'name': 'artifact'},\n",
       " 8: {'id': 8, 'supercategory': '', 'name': 'condition'},\n",
       " 9: {'id': 9, 'supercategory': '', 'name': 'pedicel'}}"
      ]
     },
     "execution_count": 2,
     "metadata": {},
     "output_type": "execute_result"
    }
   ],
   "source": [
    "coco.cats"
   ]
  },
  {
   "cell_type": "code",
   "execution_count": 3,
   "id": "a26315b2-dd84-4a24-a93c-8b205d81421a",
   "metadata": {},
   "outputs": [
    {
     "data": {
      "text/plain": [
       "[712, 733, 2700, 2700, 3315, 3317]"
      ]
     },
     "execution_count": 3,
     "metadata": {},
     "output_type": "execute_result"
    }
   ],
   "source": [
    "coco.catToImgs[1]"
   ]
  },
  {
   "cell_type": "code",
   "execution_count": 4,
   "id": "8a9d99d8-b976-479e-82df-39ba4a150e9b",
   "metadata": {},
   "outputs": [],
   "source": [
    "for i in range(1, 10):\n",
    "    if i in [1, 8]:\n",
    "        continue\n",
    "\n",
    "    else:\n",
    "        for j in list(set(coco.catToImgs[i])):\n",
    "            img_src_path = \"/home/aliosman/Desktop/MyProjects/lemon-quality/lemon-dataset/\" + coco.imgs[j].get(\"file_name\")\n",
    "            img_dst_path = \"/home/aliosman/Desktop/MyProjects/lemon-quality/data/\" + coco.cats[i].get(\"name\") + \"/\" + coco.imgs[j].get(\"file_name\").split(\"/\")[1]\n",
    "\n",
    "            shutil.copy(img_src_path, img_dst_path)"
   ]
  },
  {
   "cell_type": "code",
   "execution_count": 8,
   "id": "83d3bde9-f724-45c1-801c-7d88e99d63ea",
   "metadata": {},
   "outputs": [
    {
     "name": "stdout",
     "output_type": "stream",
     "text": [
      "gangrene len: 450\n",
      "illness len: 1744\n",
      "artifact len: 452\n",
      "pedicel len: 1246\n",
      "dark_style_remains len: 467\n",
      "blemish len: 2049\n",
      "mould len: 265\n"
     ]
    }
   ],
   "source": [
    "import os\n",
    "base_path = \"/home/aliosman/Desktop/MyProjects/lemon-quality/data/\"\n",
    "class_paths = os.listdir(base_path)\n",
    "\n",
    "for class_path in class_paths:\n",
    "    print(f\"{class_path} len: {len(os.listdir(base_path + class_path))}\")"
   ]
  },
  {
   "cell_type": "code",
   "execution_count": null,
   "id": "c47525e3-55e3-4e7b-bc2b-d43e6675e8d1",
   "metadata": {},
   "outputs": [],
   "source": []
  }
 ],
 "metadata": {
  "kernelspec": {
   "display_name": "Python 3 (ipykernel)",
   "language": "python",
   "name": "python3"
  },
  "language_info": {
   "codemirror_mode": {
    "name": "ipython",
    "version": 3
   },
   "file_extension": ".py",
   "mimetype": "text/x-python",
   "name": "python",
   "nbconvert_exporter": "python",
   "pygments_lexer": "ipython3",
   "version": "3.11.0"
  }
 },
 "nbformat": 4,
 "nbformat_minor": 5
}
